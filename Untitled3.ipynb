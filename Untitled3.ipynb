{
  "nbformat": 4,
  "nbformat_minor": 0,
  "metadata": {
    "colab": {
      "provenance": [],
      "gpuType": "T4"
    },
    "kernelspec": {
      "name": "python3",
      "display_name": "Python 3"
    },
    "language_info": {
      "name": "python"
    },
    "accelerator": "GPU"
  },
  "cells": [
    {
      "cell_type": "markdown",
      "source": [],
      "metadata": {
        "id": "YzeFZ0ztanS-"
      }
    },
    {
      "cell_type": "code",
      "source": [
        "import re\n",
        "import csv\n",
        "from collections import Counter"
      ],
      "metadata": {
        "id": "C1kpLE15ekKO"
      },
      "execution_count": 42,
      "outputs": []
    },
    {
      "cell_type": "markdown",
      "source": [
        "File handlig"
      ],
      "metadata": {
        "id": "bmRzs3Ajao4w"
      }
    },
    {
      "cell_type": "code",
      "source": [
        "\n",
        "def read_log_file(file_path):\n",
        "    \"\"\"\n",
        "    Reads the content of a log file line by line.\n",
        "    \"\"\"\n",
        "    try:\n",
        "        with open(file_path, 'r') as file:\n",
        "            return file.readlines()\n",
        "    except FileNotFoundError:\n",
        "        print(f\"Error: File '{file_path}' not found.\")\n",
        "        return []\n",
        "    except Exception as e:\n",
        "        print(f\"Error reading file '{file_path}': {e}\")\n",
        "        return []\n",
        "\n"
      ],
      "metadata": {
        "id": "RgLOCLrven69"
      },
      "execution_count": 43,
      "outputs": []
    },
    {
      "cell_type": "code",
      "source": [
        "# Count requests per IP\n",
        "def count_requests_per_ip(log_lines):\n",
        "    \"\"\"\n",
        "    Counts the number of requests made by each IP address.\n",
        "    \"\"\"\n",
        "    ip_pattern = r'\\b(?:\\d{1,3}\\.){3}\\d{1,3}\\b'\n",
        "    ip_addresses = [re.search(ip_pattern, line).group() for line in log_lines if re.search(ip_pattern, line)]\n",
        "    return Counter(ip_addresses)"
      ],
      "metadata": {
        "id": "rdfa-ESNesrB"
      },
      "execution_count": 44,
      "outputs": []
    },
    {
      "cell_type": "code",
      "source": [
        "# Find most accessed endpoint\n",
        "def find_most_accessed_endpoint(log_lines):\n",
        "    \"\"\"\n",
        "    Identifies the most frequently accessed endpoint.\n",
        "    \"\"\"\n",
        "    endpoint_pattern = r'\\\"(?:GET|POST|PUT|DELETE|HEAD|OPTIONS) (\\S+)'\n",
        "    endpoints = [re.search(endpoint_pattern, line).group(1) for line in log_lines if re.search(endpoint_pattern, line)]\n",
        "    endpoint_counts = Counter(endpoints)\n",
        "    return endpoint_counts.most_common(1)[0] if endpoint_counts else (\"None\", 0)"
      ],
      "metadata": {
        "id": "tIY321MVfAUx"
      },
      "execution_count": 45,
      "outputs": []
    },
    {
      "cell_type": "code",
      "source": [
        "# Detect suspicious activity\n",
        "def detect_suspicious_activity(log_lines, threshold):\n",
        "    \"\"\"\n",
        "    Detects suspicious activity based on failed login attempts.\n",
        "    \"\"\"\n",
        "    failed_login_pattern = r'(401|Invalid credentials)'\n",
        "    ip_pattern = r'\\b(?:\\d{1,3}\\.){3}\\d{1,3}\\b'\n",
        "    failed_attempts = [\n",
        "        re.search(ip_pattern, line).group()\n",
        "        for line in log_lines if re.search(failed_login_pattern, line) and re.search(ip_pattern, line)\n",
        "    ]\n",
        "    failed_login_counts = Counter(failed_attempts)\n",
        "    return {ip: count for ip, count in failed_login_counts.items() if count > threshold}"
      ],
      "metadata": {
        "id": "AsWVvcoJfEof"
      },
      "execution_count": 46,
      "outputs": []
    },
    {
      "cell_type": "code",
      "source": [
        "# Save results to CSV\n",
        "def save_to_csv(ip_counts, most_accessed_endpoint, suspicious_activity, file_path):\n",
        "    \"\"\"\n",
        "    Saves the analysis results to a CSV file.\n",
        "    \"\"\"\n",
        "    try:\n",
        "        with open(file_path, mode='w', newline='') as csvfile:\n",
        "            writer = csv.writer(csvfile)\n",
        "\n",
        "            # Write header\n",
        "            writer.writerow([\"Log Analysis Results\"])\n",
        "\n",
        "            # Write requests per IP\n",
        "            writer.writerow([])\n",
        "            writer.writerow([\"Requests per IP\"])\n",
        "            writer.writerow([\"IP Address\", \"Request Count\"])\n",
        "            for ip, count in ip_counts.items():\n",
        "                writer.writerow([ip, count])\n",
        "\n",
        "            # Write most accessed endpoint\n",
        "            writer.writerow([])\n",
        "            writer.writerow([\"Most Accessed Endpoint\"])\n",
        "            writer.writerow([\"Endpoint\", \"Access Count\"])\n",
        "            writer.writerow([most_accessed_endpoint[0], most_accessed_endpoint[1]])\n",
        "\n",
        "            # Write suspicious activity\n",
        "            writer.writerow([])\n",
        "            writer.writerow([\"Suspicious Activity\"])\n",
        "            writer.writerow([\"IP Address\", \"Failed Login Count\"])\n",
        "            for ip, count in suspicious_activity.items():\n",
        "                writer.writerow([ip, count])\n",
        "\n",
        "        print(f\"Results successfully written to '{file_path}'.\")\n",
        "    except Exception as e:\n",
        "        print(f\"Error writing to file '{file_path}': {e}\")"
      ],
      "metadata": {
        "id": "vPBNzeHifKVl"
      },
      "execution_count": 47,
      "outputs": []
    },
    {
      "cell_type": "code",
      "source": [
        "# Main script\n",
        "log_file = \"sample.log\"\n",
        "failed_login_threshold = 10"
      ],
      "metadata": {
        "id": "vEhZyZ_GfS2R"
      },
      "execution_count": 48,
      "outputs": []
    },
    {
      "cell_type": "code",
      "source": [
        "# Step 1: Read log file\n",
        "log_lines = read_log_file(log_file)"
      ],
      "metadata": {
        "id": "bhuBqXbCfWPY"
      },
      "execution_count": 49,
      "outputs": []
    },
    {
      "cell_type": "code",
      "source": [
        "# Step 2: Perform analysis\n",
        "ip_counts = count_requests_per_ip(log_lines)\n",
        "most_accessed_endpoint = find_most_accessed_endpoint(log_lines)\n",
        "suspicious_activity = detect_suspicious_activity(log_lines, failed_login_threshold)"
      ],
      "metadata": {
        "id": "b18fyW9FfbQu"
      },
      "execution_count": 50,
      "outputs": []
    },
    {
      "cell_type": "code",
      "source": [
        "# Step 3: Print sorted results in descending order\n",
        "print(f\"{'IP Address':<20}{'Request Count'}\")\n",
        "\n",
        "sorted_ip_counts = sorted(ip_counts.items(), key=lambda x: x[1], reverse=True)\n",
        "for ip, count in sorted_ip_counts:\n",
        "    print(f\"{ip:<20}{count}\")\n",
        "\n",
        "# Step 4: Save results to CSV\n",
        "save_to_csv(ip_counts, most_accessed_endpoint, suspicious_activity, \"log_analysis_results.csv\")"
      ],
      "metadata": {
        "colab": {
          "base_uri": "https://localhost:8080/"
        },
        "id": "nQXom12Rffxe",
        "outputId": "daa4c58b-0f75-497a-8fc2-911d0ceb72d0"
      },
      "execution_count": 51,
      "outputs": [
        {
          "output_type": "stream",
          "name": "stdout",
          "text": [
            "IP Address          Request Count\n",
            "203.0.113.5         13\n",
            "198.51.100.23       8\n",
            "192.168.1.1         7\n",
            "10.0.0.2            6\n",
            "192.168.1.100       5\n",
            "Results successfully written to 'log_analysis_results.csv'.\n"
          ]
        }
      ]
    }
  ]
}